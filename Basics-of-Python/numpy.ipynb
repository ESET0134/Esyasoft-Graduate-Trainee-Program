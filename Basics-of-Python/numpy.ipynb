{
 "cells": [
  {
   "cell_type": "markdown",
   "id": "5d905e05",
   "metadata": {},
   "source": [
    "# NumPy"
   ]
  },
  {
   "cell_type": "code",
   "execution_count": 8,
   "id": "fb5ca9dc",
   "metadata": {},
   "outputs": [],
   "source": [
    "import numpy as np"
   ]
  },
  {
   "cell_type": "markdown",
   "id": "b73e0aac",
   "metadata": {},
   "source": [
    "Converting list into array (Vectorized Operaion)"
   ]
  },
  {
   "cell_type": "code",
   "execution_count": 9,
   "id": "44c13a21",
   "metadata": {},
   "outputs": [
    {
     "name": "stdout",
     "output_type": "stream",
     "text": [
      "[[10  5  5]\n",
      " [ 8 10  9]\n",
      " [10 16 12]]\n"
     ]
    }
   ],
   "source": [
    "list1 = np.array([[1, 2, 3], [4, 5, 5], [7, 8, 9]])\n",
    "list2 = np.array([[9, 3, 2], [4, 5, 4], [3, 8, 3]])\n",
    "result = list1 + list2\n",
    "print(result)"
   ]
  }
 ],
 "metadata": {
  "kernelspec": {
   "display_name": "Python 3",
   "language": "python",
   "name": "python3"
  },
  "language_info": {
   "codemirror_mode": {
    "name": "ipython",
    "version": 3
   },
   "file_extension": ".py",
   "mimetype": "text/x-python",
   "name": "python",
   "nbconvert_exporter": "python",
   "pygments_lexer": "ipython3",
   "version": "3.13.7"
  }
 },
 "nbformat": 4,
 "nbformat_minor": 5
}
