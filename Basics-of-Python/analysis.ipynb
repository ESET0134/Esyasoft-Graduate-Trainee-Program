{
 "cells": [
  {
   "cell_type": "code",
   "execution_count": 58,
   "id": "c32c3939",
   "metadata": {},
   "outputs": [],
   "source": [
    "import pandas as pd\n",
    "import numpy as np\n",
    "import seaborn as sns"
   ]
  },
  {
   "cell_type": "code",
   "execution_count": 79,
   "id": "5ba8cf29",
   "metadata": {},
   "outputs": [],
   "source": [
    "df = pd.read_csv('datasets.csv')"
   ]
  },
  {
   "cell_type": "markdown",
   "id": "88dda142",
   "metadata": {},
   "source": [
    "Types of Data Analysis:\n",
    "    \n",
    "1. Descriptive Analysis\n",
    "2. Diagnostic Analysis\n",
    "3. Predictive Analysis\n",
    "4. Prescriptive Analysis\n",
    "5. Inferential Analysis\n",
    "6. Exporatory Data Analysis(EDA)"
   ]
  },
  {
   "cell_type": "code",
   "execution_count": 80,
   "id": "b5a15490",
   "metadata": {},
   "outputs": [
    {
     "data": {
      "text/html": [
       "<div>\n",
       "<style scoped>\n",
       "    .dataframe tbody tr th:only-of-type {\n",
       "        vertical-align: middle;\n",
       "    }\n",
       "\n",
       "    .dataframe tbody tr th {\n",
       "        vertical-align: top;\n",
       "    }\n",
       "\n",
       "    .dataframe thead th {\n",
       "        text-align: right;\n",
       "    }\n",
       "</style>\n",
       "<table border=\"1\" class=\"dataframe\">\n",
       "  <thead>\n",
       "    <tr style=\"text-align: right;\">\n",
       "      <th></th>\n",
       "      <th>datasetName</th>\n",
       "      <th>about</th>\n",
       "      <th>link</th>\n",
       "      <th>categoryName</th>\n",
       "      <th>cloud</th>\n",
       "      <th>vintage</th>\n",
       "    </tr>\n",
       "  </thead>\n",
       "  <tbody>\n",
       "    <tr>\n",
       "      <th>0</th>\n",
       "      <td>Microbiome Project</td>\n",
       "      <td>American Gut (Microbiome Project)</td>\n",
       "      <td>https://github.com/biocore/American-Gut</td>\n",
       "      <td>Biology</td>\n",
       "      <td>GitHub</td>\n",
       "      <td>NaN</td>\n",
       "    </tr>\n",
       "    <tr>\n",
       "      <th>1</th>\n",
       "      <td>GloBI</td>\n",
       "      <td>Global Biotic Interactions (GloBI)</td>\n",
       "      <td>https://github.com/jhpoelen/eol-globi-data/wik...</td>\n",
       "      <td>Biology</td>\n",
       "      <td>GitHub</td>\n",
       "      <td>NaN</td>\n",
       "    </tr>\n",
       "    <tr>\n",
       "      <th>2</th>\n",
       "      <td>Global Climate</td>\n",
       "      <td>Global Climate Data Since 1929</td>\n",
       "      <td>http://en.tutiempo.net/climate</td>\n",
       "      <td>Climate/Weather</td>\n",
       "      <td>NaN</td>\n",
       "      <td>1929.0</td>\n",
       "    </tr>\n",
       "    <tr>\n",
       "      <th>3</th>\n",
       "      <td>CommonCraw 2012</td>\n",
       "      <td>3.5B Web Pages from CommonCraw 2012</td>\n",
       "      <td>http://www.bigdatanews.com/profiles/blogs/big-...</td>\n",
       "      <td>Computer Networks</td>\n",
       "      <td>NaN</td>\n",
       "      <td>2012.0</td>\n",
       "    </tr>\n",
       "    <tr>\n",
       "      <th>4</th>\n",
       "      <td>Indiana Webclicks</td>\n",
       "      <td>53.5B Web clicks of 100K users in Indiana Univ.</td>\n",
       "      <td>http://cnets.indiana.edu/groups/nan/webtraffic...</td>\n",
       "      <td>Computer Networks</td>\n",
       "      <td>NaN</td>\n",
       "      <td>NaN</td>\n",
       "    </tr>\n",
       "    <tr>\n",
       "      <th>5</th>\n",
       "      <td>Criteo click-through</td>\n",
       "      <td>Criteo click-through data</td>\n",
       "      <td>http://labs.criteo.com/2015/03/criteo-releases...</td>\n",
       "      <td>Computer Networks</td>\n",
       "      <td>NaN</td>\n",
       "      <td>NaN</td>\n",
       "    </tr>\n",
       "  </tbody>\n",
       "</table>\n",
       "</div>"
      ],
      "text/plain": [
       "            datasetName                                            about  \\\n",
       "0    Microbiome Project                American Gut (Microbiome Project)   \n",
       "1                 GloBI               Global Biotic Interactions (GloBI)   \n",
       "2        Global Climate                   Global Climate Data Since 1929   \n",
       "3       CommonCraw 2012              3.5B Web Pages from CommonCraw 2012   \n",
       "4     Indiana Webclicks  53.5B Web clicks of 100K users in Indiana Univ.   \n",
       "5  Criteo click-through                        Criteo click-through data   \n",
       "\n",
       "                                                link       categoryName  \\\n",
       "0            https://github.com/biocore/American-Gut            Biology   \n",
       "1  https://github.com/jhpoelen/eol-globi-data/wik...            Biology   \n",
       "2                     http://en.tutiempo.net/climate    Climate/Weather   \n",
       "3  http://www.bigdatanews.com/profiles/blogs/big-...  Computer Networks   \n",
       "4  http://cnets.indiana.edu/groups/nan/webtraffic...  Computer Networks   \n",
       "5  http://labs.criteo.com/2015/03/criteo-releases...  Computer Networks   \n",
       "\n",
       "    cloud  vintage  \n",
       "0  GitHub      NaN  \n",
       "1  GitHub      NaN  \n",
       "2     NaN   1929.0  \n",
       "3     NaN   2012.0  \n",
       "4     NaN      NaN  \n",
       "5     NaN      NaN  "
      ]
     },
     "execution_count": 80,
     "metadata": {},
     "output_type": "execute_result"
    }
   ],
   "source": [
    "df.head(6)"
   ]
  },
  {
   "cell_type": "code",
   "execution_count": 81,
   "id": "b38dc0fd",
   "metadata": {},
   "outputs": [
    {
     "data": {
      "text/html": [
       "<div>\n",
       "<style scoped>\n",
       "    .dataframe tbody tr th:only-of-type {\n",
       "        vertical-align: middle;\n",
       "    }\n",
       "\n",
       "    .dataframe tbody tr th {\n",
       "        vertical-align: top;\n",
       "    }\n",
       "\n",
       "    .dataframe thead th {\n",
       "        text-align: right;\n",
       "    }\n",
       "</style>\n",
       "<table border=\"1\" class=\"dataframe\">\n",
       "  <thead>\n",
       "    <tr style=\"text-align: right;\">\n",
       "      <th></th>\n",
       "      <th>datasetName</th>\n",
       "      <th>about</th>\n",
       "      <th>link</th>\n",
       "      <th>categoryName</th>\n",
       "      <th>cloud</th>\n",
       "      <th>vintage</th>\n",
       "    </tr>\n",
       "  </thead>\n",
       "  <tbody>\n",
       "    <tr>\n",
       "      <th>55</th>\n",
       "      <td>ClueWeb09 FACC</td>\n",
       "      <td>ClueWeb09 FACC</td>\n",
       "      <td>http://lemurproject.org/clueweb09/FACC1/</td>\n",
       "      <td>Natural Language</td>\n",
       "      <td>NaN</td>\n",
       "      <td>2009.0</td>\n",
       "    </tr>\n",
       "    <tr>\n",
       "      <th>56</th>\n",
       "      <td>ClueWeb12 FACC</td>\n",
       "      <td>ClueWeb12 FACC</td>\n",
       "      <td>http://lemurproject.org/clueweb12/FACC1/</td>\n",
       "      <td>Natural Language</td>\n",
       "      <td>NaN</td>\n",
       "      <td>2012.0</td>\n",
       "    </tr>\n",
       "    <tr>\n",
       "      <th>57</th>\n",
       "      <td>Google Ngrams</td>\n",
       "      <td>Google Books Ngrams (2.2TB)</td>\n",
       "      <td>https://aws.amazon.com/datasets/google-books-n...</td>\n",
       "      <td>Natural Language</td>\n",
       "      <td>Amazon</td>\n",
       "      <td>NaN</td>\n",
       "    </tr>\n",
       "    <tr>\n",
       "      <th>58</th>\n",
       "      <td>EDRM Enron</td>\n",
       "      <td>EDRM Enron EMail of 151 users, hosted on S3</td>\n",
       "      <td>https://aws.amazon.com/datasets/enron-email-data/</td>\n",
       "      <td>Social Networks</td>\n",
       "      <td>Amazon</td>\n",
       "      <td>NaN</td>\n",
       "    </tr>\n",
       "    <tr>\n",
       "      <th>59</th>\n",
       "      <td>GetGlue</td>\n",
       "      <td>GetGlue - users rating TV shows</td>\n",
       "      <td>http://getglue-data.s3.amazonaws.com/getglue_s...</td>\n",
       "      <td>Social Networks</td>\n",
       "      <td>NaN</td>\n",
       "      <td>NaN</td>\n",
       "    </tr>\n",
       "    <tr>\n",
       "      <th>60</th>\n",
       "      <td>Twitter RepLab</td>\n",
       "      <td>Twitter Data for Online Reputation Management</td>\n",
       "      <td>http://nlp.uned.es/replab2013/</td>\n",
       "      <td>Social Networks</td>\n",
       "      <td>NaN</td>\n",
       "      <td>2013.0</td>\n",
       "    </tr>\n",
       "  </tbody>\n",
       "</table>\n",
       "</div>"
      ],
      "text/plain": [
       "       datasetName                                          about  \\\n",
       "55  ClueWeb09 FACC                                 ClueWeb09 FACC   \n",
       "56  ClueWeb12 FACC                                 ClueWeb12 FACC   \n",
       "57   Google Ngrams                    Google Books Ngrams (2.2TB)   \n",
       "58      EDRM Enron    EDRM Enron EMail of 151 users, hosted on S3   \n",
       "59         GetGlue                GetGlue - users rating TV shows   \n",
       "60  Twitter RepLab  Twitter Data for Online Reputation Management   \n",
       "\n",
       "                                                 link      categoryName  \\\n",
       "55           http://lemurproject.org/clueweb09/FACC1/  Natural Language   \n",
       "56           http://lemurproject.org/clueweb12/FACC1/  Natural Language   \n",
       "57  https://aws.amazon.com/datasets/google-books-n...  Natural Language   \n",
       "58  https://aws.amazon.com/datasets/enron-email-data/   Social Networks   \n",
       "59  http://getglue-data.s3.amazonaws.com/getglue_s...   Social Networks   \n",
       "60                     http://nlp.uned.es/replab2013/   Social Networks   \n",
       "\n",
       "     cloud  vintage  \n",
       "55     NaN   2009.0  \n",
       "56     NaN   2012.0  \n",
       "57  Amazon      NaN  \n",
       "58  Amazon      NaN  \n",
       "59     NaN      NaN  \n",
       "60     NaN   2013.0  "
      ]
     },
     "execution_count": 81,
     "metadata": {},
     "output_type": "execute_result"
    }
   ],
   "source": [
    "df.tail(6)"
   ]
  },
  {
   "cell_type": "code",
   "execution_count": 82,
   "id": "41923a81",
   "metadata": {},
   "outputs": [
    {
     "name": "stdout",
     "output_type": "stream",
     "text": [
      "<class 'pandas.core.frame.DataFrame'>\n",
      "RangeIndex: 61 entries, 0 to 60\n",
      "Data columns (total 6 columns):\n",
      " #   Column        Non-Null Count  Dtype  \n",
      "---  ------        --------------  -----  \n",
      " 0   datasetName   61 non-null     object \n",
      " 1   about         61 non-null     object \n",
      " 2   link          61 non-null     object \n",
      " 3   categoryName  61 non-null     object \n",
      " 4   cloud         24 non-null     object \n",
      " 5   vintage       31 non-null     float64\n",
      "dtypes: float64(1), object(5)\n",
      "memory usage: 3.0+ KB\n"
     ]
    }
   ],
   "source": [
    "df.info()"
   ]
  },
  {
   "cell_type": "code",
   "execution_count": 83,
   "id": "46fbaa8b",
   "metadata": {},
   "outputs": [
    {
     "data": {
      "text/html": [
       "<div>\n",
       "<style scoped>\n",
       "    .dataframe tbody tr th:only-of-type {\n",
       "        vertical-align: middle;\n",
       "    }\n",
       "\n",
       "    .dataframe tbody tr th {\n",
       "        vertical-align: top;\n",
       "    }\n",
       "\n",
       "    .dataframe thead th {\n",
       "        text-align: right;\n",
       "    }\n",
       "</style>\n",
       "<table border=\"1\" class=\"dataframe\">\n",
       "  <thead>\n",
       "    <tr style=\"text-align: right;\">\n",
       "      <th></th>\n",
       "      <th>about</th>\n",
       "      <th>link</th>\n",
       "      <th>categoryName</th>\n",
       "      <th>cloud</th>\n",
       "      <th>vintage</th>\n",
       "    </tr>\n",
       "  </thead>\n",
       "  <tbody>\n",
       "    <tr>\n",
       "      <th>0</th>\n",
       "      <td>American Gut (Microbiome Project)</td>\n",
       "      <td>https://github.com/biocore/American-Gut</td>\n",
       "      <td>Biology</td>\n",
       "      <td>GitHub</td>\n",
       "      <td>NaN</td>\n",
       "    </tr>\n",
       "    <tr>\n",
       "      <th>1</th>\n",
       "      <td>Global Biotic Interactions (GloBI)</td>\n",
       "      <td>https://github.com/jhpoelen/eol-globi-data/wik...</td>\n",
       "      <td>Biology</td>\n",
       "      <td>GitHub</td>\n",
       "      <td>NaN</td>\n",
       "    </tr>\n",
       "    <tr>\n",
       "      <th>2</th>\n",
       "      <td>Global Climate Data Since 1929</td>\n",
       "      <td>http://en.tutiempo.net/climate</td>\n",
       "      <td>Climate/Weather</td>\n",
       "      <td>NaN</td>\n",
       "      <td>1929.0</td>\n",
       "    </tr>\n",
       "    <tr>\n",
       "      <th>3</th>\n",
       "      <td>3.5B Web Pages from CommonCraw 2012</td>\n",
       "      <td>http://www.bigdatanews.com/profiles/blogs/big-...</td>\n",
       "      <td>Computer Networks</td>\n",
       "      <td>NaN</td>\n",
       "      <td>2012.0</td>\n",
       "    </tr>\n",
       "    <tr>\n",
       "      <th>4</th>\n",
       "      <td>53.5B Web clicks of 100K users in Indiana Univ.</td>\n",
       "      <td>http://cnets.indiana.edu/groups/nan/webtraffic...</td>\n",
       "      <td>Computer Networks</td>\n",
       "      <td>NaN</td>\n",
       "      <td>NaN</td>\n",
       "    </tr>\n",
       "  </tbody>\n",
       "</table>\n",
       "</div>"
      ],
      "text/plain": [
       "                                             about  \\\n",
       "0                American Gut (Microbiome Project)   \n",
       "1               Global Biotic Interactions (GloBI)   \n",
       "2                   Global Climate Data Since 1929   \n",
       "3              3.5B Web Pages from CommonCraw 2012   \n",
       "4  53.5B Web clicks of 100K users in Indiana Univ.   \n",
       "\n",
       "                                                link       categoryName  \\\n",
       "0            https://github.com/biocore/American-Gut            Biology   \n",
       "1  https://github.com/jhpoelen/eol-globi-data/wik...            Biology   \n",
       "2                     http://en.tutiempo.net/climate    Climate/Weather   \n",
       "3  http://www.bigdatanews.com/profiles/blogs/big-...  Computer Networks   \n",
       "4  http://cnets.indiana.edu/groups/nan/webtraffic...  Computer Networks   \n",
       "\n",
       "    cloud  vintage  \n",
       "0  GitHub      NaN  \n",
       "1  GitHub      NaN  \n",
       "2     NaN   1929.0  \n",
       "3     NaN   2012.0  \n",
       "4     NaN      NaN  "
      ]
     },
     "execution_count": 83,
     "metadata": {},
     "output_type": "execute_result"
    }
   ],
   "source": [
    "df = df.drop('datasetName', axis=1)\n",
    "df.head()"
   ]
  },
  {
   "cell_type": "code",
   "execution_count": 84,
   "id": "f35ae320",
   "metadata": {},
   "outputs": [
    {
     "name": "stdout",
     "output_type": "stream",
     "text": [
      "<class 'pandas.core.frame.DataFrame'>\n",
      "RangeIndex: 61 entries, 0 to 60\n",
      "Data columns (total 5 columns):\n",
      " #   Column        Non-Null Count  Dtype  \n",
      "---  ------        --------------  -----  \n",
      " 0   about         61 non-null     object \n",
      " 1   link          61 non-null     object \n",
      " 2   categoryName  61 non-null     object \n",
      " 3   cloud         24 non-null     object \n",
      " 4   vintage       31 non-null     float64\n",
      "dtypes: float64(1), object(4)\n",
      "memory usage: 2.5+ KB\n"
     ]
    }
   ],
   "source": [
    "df.info()"
   ]
  },
  {
   "cell_type": "code",
   "execution_count": 85,
   "id": "046099c1",
   "metadata": {},
   "outputs": [
    {
     "data": {
      "text/html": [
       "<div>\n",
       "<style scoped>\n",
       "    .dataframe tbody tr th:only-of-type {\n",
       "        vertical-align: middle;\n",
       "    }\n",
       "\n",
       "    .dataframe tbody tr th {\n",
       "        vertical-align: top;\n",
       "    }\n",
       "\n",
       "    .dataframe thead th {\n",
       "        text-align: right;\n",
       "    }\n",
       "</style>\n",
       "<table border=\"1\" class=\"dataframe\">\n",
       "  <thead>\n",
       "    <tr style=\"text-align: right;\">\n",
       "      <th></th>\n",
       "      <th>Description</th>\n",
       "      <th>Link</th>\n",
       "      <th>Category</th>\n",
       "      <th>Cloud</th>\n",
       "      <th>Year</th>\n",
       "    </tr>\n",
       "  </thead>\n",
       "  <tbody>\n",
       "    <tr>\n",
       "      <th>0</th>\n",
       "      <td>American Gut (Microbiome Project)</td>\n",
       "      <td>https://github.com/biocore/American-Gut</td>\n",
       "      <td>Biology</td>\n",
       "      <td>GitHub</td>\n",
       "      <td>NaN</td>\n",
       "    </tr>\n",
       "    <tr>\n",
       "      <th>1</th>\n",
       "      <td>Global Biotic Interactions (GloBI)</td>\n",
       "      <td>https://github.com/jhpoelen/eol-globi-data/wik...</td>\n",
       "      <td>Biology</td>\n",
       "      <td>GitHub</td>\n",
       "      <td>NaN</td>\n",
       "    </tr>\n",
       "    <tr>\n",
       "      <th>2</th>\n",
       "      <td>Global Climate Data Since 1929</td>\n",
       "      <td>http://en.tutiempo.net/climate</td>\n",
       "      <td>Climate/Weather</td>\n",
       "      <td>NaN</td>\n",
       "      <td>1929.0</td>\n",
       "    </tr>\n",
       "    <tr>\n",
       "      <th>3</th>\n",
       "      <td>3.5B Web Pages from CommonCraw 2012</td>\n",
       "      <td>http://www.bigdatanews.com/profiles/blogs/big-...</td>\n",
       "      <td>Computer Networks</td>\n",
       "      <td>NaN</td>\n",
       "      <td>2012.0</td>\n",
       "    </tr>\n",
       "    <tr>\n",
       "      <th>4</th>\n",
       "      <td>53.5B Web clicks of 100K users in Indiana Univ.</td>\n",
       "      <td>http://cnets.indiana.edu/groups/nan/webtraffic...</td>\n",
       "      <td>Computer Networks</td>\n",
       "      <td>NaN</td>\n",
       "      <td>NaN</td>\n",
       "    </tr>\n",
       "  </tbody>\n",
       "</table>\n",
       "</div>"
      ],
      "text/plain": [
       "                                       Description  \\\n",
       "0                American Gut (Microbiome Project)   \n",
       "1               Global Biotic Interactions (GloBI)   \n",
       "2                   Global Climate Data Since 1929   \n",
       "3              3.5B Web Pages from CommonCraw 2012   \n",
       "4  53.5B Web clicks of 100K users in Indiana Univ.   \n",
       "\n",
       "                                                Link           Category  \\\n",
       "0            https://github.com/biocore/American-Gut            Biology   \n",
       "1  https://github.com/jhpoelen/eol-globi-data/wik...            Biology   \n",
       "2                     http://en.tutiempo.net/climate    Climate/Weather   \n",
       "3  http://www.bigdatanews.com/profiles/blogs/big-...  Computer Networks   \n",
       "4  http://cnets.indiana.edu/groups/nan/webtraffic...  Computer Networks   \n",
       "\n",
       "    Cloud    Year  \n",
       "0  GitHub     NaN  \n",
       "1  GitHub     NaN  \n",
       "2     NaN  1929.0  \n",
       "3     NaN  2012.0  \n",
       "4     NaN     NaN  "
      ]
     },
     "execution_count": 85,
     "metadata": {},
     "output_type": "execute_result"
    }
   ],
   "source": [
    "df = df.rename(columns={'about':'Description', 'link':'Link', 'categoryName':'Category', 'cloud':'Cloud', 'vintage':'Year'})\n",
    "df.head()"
   ]
  },
  {
   "cell_type": "code",
   "execution_count": 86,
   "id": "778e722d",
   "metadata": {},
   "outputs": [
    {
     "data": {
      "text/html": [
       "<div>\n",
       "<style scoped>\n",
       "    .dataframe tbody tr th:only-of-type {\n",
       "        vertical-align: middle;\n",
       "    }\n",
       "\n",
       "    .dataframe tbody tr th {\n",
       "        vertical-align: top;\n",
       "    }\n",
       "\n",
       "    .dataframe thead th {\n",
       "        text-align: right;\n",
       "    }\n",
       "</style>\n",
       "<table border=\"1\" class=\"dataframe\">\n",
       "  <thead>\n",
       "    <tr style=\"text-align: right;\">\n",
       "      <th></th>\n",
       "      <th>Year</th>\n",
       "    </tr>\n",
       "  </thead>\n",
       "  <tbody>\n",
       "    <tr>\n",
       "      <th>count</th>\n",
       "      <td>31.000000</td>\n",
       "    </tr>\n",
       "    <tr>\n",
       "      <th>mean</th>\n",
       "      <td>2000.677419</td>\n",
       "    </tr>\n",
       "    <tr>\n",
       "      <th>std</th>\n",
       "      <td>24.436840</td>\n",
       "    </tr>\n",
       "    <tr>\n",
       "      <th>min</th>\n",
       "      <td>1920.000000</td>\n",
       "    </tr>\n",
       "    <tr>\n",
       "      <th>25%</th>\n",
       "      <td>2006.500000</td>\n",
       "    </tr>\n",
       "    <tr>\n",
       "      <th>50%</th>\n",
       "      <td>2009.000000</td>\n",
       "    </tr>\n",
       "    <tr>\n",
       "      <th>75%</th>\n",
       "      <td>2012.000000</td>\n",
       "    </tr>\n",
       "    <tr>\n",
       "      <th>max</th>\n",
       "      <td>2016.000000</td>\n",
       "    </tr>\n",
       "  </tbody>\n",
       "</table>\n",
       "</div>"
      ],
      "text/plain": [
       "              Year\n",
       "count    31.000000\n",
       "mean   2000.677419\n",
       "std      24.436840\n",
       "min    1920.000000\n",
       "25%    2006.500000\n",
       "50%    2009.000000\n",
       "75%    2012.000000\n",
       "max    2016.000000"
      ]
     },
     "execution_count": 86,
     "metadata": {},
     "output_type": "execute_result"
    }
   ],
   "source": [
    "df.describe()"
   ]
  },
  {
   "cell_type": "code",
   "execution_count": 87,
   "id": "f213fcef",
   "metadata": {},
   "outputs": [
    {
     "data": {
      "text/plain": [
       "(61, 5)"
      ]
     },
     "execution_count": 87,
     "metadata": {},
     "output_type": "execute_result"
    }
   ],
   "source": [
    "df.shape"
   ]
  },
  {
   "cell_type": "code",
   "execution_count": 88,
   "id": "2fb3eea4",
   "metadata": {},
   "outputs": [
    {
     "data": {
      "text/plain": [
       "(0, 5)"
      ]
     },
     "execution_count": 88,
     "metadata": {},
     "output_type": "execute_result"
    }
   ],
   "source": [
    "duplicate = df[df.duplicated()]\n",
    "duplicate.shape"
   ]
  },
  {
   "cell_type": "code",
   "execution_count": 89,
   "id": "00c22df7",
   "metadata": {},
   "outputs": [
    {
     "data": {
      "text/plain": [
       "(61, 5)"
      ]
     },
     "execution_count": 89,
     "metadata": {},
     "output_type": "execute_result"
    }
   ],
   "source": [
    "df = df.drop_duplicates()\n",
    "df.shape"
   ]
  },
  {
   "cell_type": "code",
   "execution_count": 90,
   "id": "27ffa207",
   "metadata": {},
   "outputs": [
    {
     "data": {
      "text/plain": [
       "Description    61\n",
       "Link           61\n",
       "Category       61\n",
       "Cloud          24\n",
       "Year           31\n",
       "dtype: int64"
      ]
     },
     "execution_count": 90,
     "metadata": {},
     "output_type": "execute_result"
    }
   ],
   "source": [
    "df.count()"
   ]
  },
  {
   "cell_type": "code",
   "execution_count": 91,
   "id": "6b83646e",
   "metadata": {},
   "outputs": [
    {
     "data": {
      "text/plain": [
       "Description     0\n",
       "Link            0\n",
       "Category        0\n",
       "Cloud          37\n",
       "Year           30\n",
       "dtype: int64"
      ]
     },
     "execution_count": 91,
     "metadata": {},
     "output_type": "execute_result"
    }
   ],
   "source": [
    "df.isnull().sum()"
   ]
  },
  {
   "cell_type": "code",
   "execution_count": 95,
   "id": "0f74654a",
   "metadata": {},
   "outputs": [
    {
     "data": {
      "text/plain": [
       "(2, 5)"
      ]
     },
     "execution_count": 95,
     "metadata": {},
     "output_type": "execute_result"
    }
   ],
   "source": [
    "df = df.dropna()\n",
    "df.shape"
   ]
  }
 ],
 "metadata": {
  "kernelspec": {
   "display_name": "Python 3",
   "language": "python",
   "name": "python3"
  },
  "language_info": {
   "codemirror_mode": {
    "name": "ipython",
    "version": 3
   },
   "file_extension": ".py",
   "mimetype": "text/x-python",
   "name": "python",
   "nbconvert_exporter": "python",
   "pygments_lexer": "ipython3",
   "version": "3.13.7"
  }
 },
 "nbformat": 4,
 "nbformat_minor": 5
}
