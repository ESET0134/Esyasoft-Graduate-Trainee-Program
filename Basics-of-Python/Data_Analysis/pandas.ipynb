{
 "cells": [
  {
   "cell_type": "markdown",
   "id": "f19e1698",
   "metadata": {},
   "source": [
    "# Pandas"
   ]
  },
  {
   "cell_type": "code",
   "execution_count": 1,
   "id": "c9b77d4e",
   "metadata": {},
   "outputs": [],
   "source": [
    "import pandas as pd"
   ]
  },
  {
   "cell_type": "markdown",
   "id": "a6ed48cc",
   "metadata": {},
   "source": [
    "Pandas Series"
   ]
  },
  {
   "cell_type": "code",
   "execution_count": 2,
   "id": "9bff1729",
   "metadata": {},
   "outputs": [
    {
     "name": "stdout",
     "output_type": "stream",
     "text": [
      "0    1\n",
      "1    3\n",
      "2    5\n",
      "3    6\n",
      "4    8\n",
      "Name: My Numbers, dtype: int64\n"
     ]
    }
   ],
   "source": [
    "s = pd.Series([1, 3, 5, 6, 8], name = 'My Numbers')\n",
    "print(s)"
   ]
  },
  {
   "cell_type": "markdown",
   "id": "a3df807d",
   "metadata": {},
   "source": [
    "Pandas DataFrame"
   ]
  },
  {
   "cell_type": "code",
   "execution_count": 9,
   "id": "b5662a5e",
   "metadata": {},
   "outputs": [
    {
     "name": "stdout",
     "output_type": "stream",
     "text": [
      "\n",
      "Pandas DataFrame:\n",
      "       Name  Age         City  Salary\n",
      "0    Alice   24     New York   70000\n",
      "1      Bob   27  Los Angeles   80000\n",
      "2  Charlie   22      Chicago   65000\n",
      "3    David   32      Houston   90000\n"
     ]
    }
   ],
   "source": [
    "data = {\n",
    "    'Name' : ['Alice', 'Bob', 'Charlie', 'David'],\n",
    "    'Age' : [24, 27, 22, 32],\n",
    "    'City' : ['New York', 'Los Angeles', 'Chicago', 'Houston'],\n",
    "    'Salary' : [70000, 80000, 65000, 90000]\n",
    "}\n",
    "df = pd.DataFrame(data)\n",
    "print(\"\\nPandas DataFrame:\\n\", df)\n"
   ]
  }
 ],
 "metadata": {
  "kernelspec": {
   "display_name": "Python 3",
   "language": "python",
   "name": "python3"
  },
  "language_info": {
   "codemirror_mode": {
    "name": "ipython",
    "version": 3
   },
   "file_extension": ".py",
   "mimetype": "text/x-python",
   "name": "python",
   "nbconvert_exporter": "python",
   "pygments_lexer": "ipython3",
   "version": "3.13.7"
  }
 },
 "nbformat": 4,
 "nbformat_minor": 5
}
