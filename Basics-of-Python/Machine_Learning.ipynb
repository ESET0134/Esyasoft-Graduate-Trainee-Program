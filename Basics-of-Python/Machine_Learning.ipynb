{
 "cells": [
  {
   "cell_type": "markdown",
   "id": "08a4f399",
   "metadata": {},
   "source": [
    "# Machine Learning"
   ]
  },
  {
   "cell_type": "markdown",
   "id": "c7d7c267",
   "metadata": {},
   "source": [
    "Supervised Learning:\n",
    "1. Regression\n",
    "2. Classification\n",
    "\n",
    "Unsupervised Learning:\n",
    "1. Clustering"
   ]
  },
  {
   "cell_type": "markdown",
   "id": "bdbf0e70",
   "metadata": {},
   "source": [
    "Steps to implement Liner Regression:\n",
    "1. Importing required Libraries (Scikit Learn)\n",
    "2. Gathering pre-processed data\n",
    "3. Choosing the right model\n",
    "4. Defining our target(y) and feature(x)\n",
    "5. Splitting our data into training and testing part(X-train, Y-train, X-test, Y-test)\n",
    "6. Train our model\n",
    "7. Validating our data\n",
    "8. Model evaluation (accuracy etc.)\n",
    "9. Visualisation"
   ]
  },
  {
   "cell_type": "code",
   "execution_count": 10,
   "id": "9df197fb",
   "metadata": {},
   "outputs": [],
   "source": [
    "import sklearn"
   ]
  },
  {
   "cell_type": "code",
   "execution_count": null,
   "id": "dd46a991",
   "metadata": {},
   "outputs": [],
   "source": [
    "from sklearn.model_selection import train_test_split\n",
    "from sklearn.preprocessing import StandardScaler\n",
    "from sklearn.linear_model import LinearRegression\n",
    "from sklearn.metrics import mean_squared_error, r2_score"
   ]
  }
 ],
 "metadata": {
  "kernelspec": {
   "display_name": "Python 3",
   "language": "python",
   "name": "python3"
  },
  "language_info": {
   "codemirror_mode": {
    "name": "ipython",
    "version": 3
   },
   "file_extension": ".py",
   "mimetype": "text/x-python",
   "name": "python",
   "nbconvert_exporter": "python",
   "pygments_lexer": "ipython3",
   "version": "3.13.7"
  }
 },
 "nbformat": 4,
 "nbformat_minor": 5
}
